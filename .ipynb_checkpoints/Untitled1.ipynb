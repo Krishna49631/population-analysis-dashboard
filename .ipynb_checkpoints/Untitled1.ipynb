{
 "cells": [
  {
   "cell_type": "code",
   "execution_count": 1,
   "id": "526d53fe-d2fc-45ac-8de6-351ced28e1c0",
   "metadata": {},
   "outputs": [
    {
     "name": "stdout",
     "output_type": "stream",
     "text": [
      "True\n"
     ]
    }
   ],
   "source": [
    "import os\n",
    "print(os.path.exists(\"dataset.csv\"))  # True hona chahiye\n"
   ]
  },
  {
   "cell_type": "code",
   "execution_count": 3,
   "id": "e48a542b-966f-4780-9913-db8347e4fd62",
   "metadata": {},
   "outputs": [],
   "source": [
    "import pandas as pd\n"
   ]
  },
  {
   "cell_type": "code",
   "execution_count": 6,
   "id": "5a58c18c-de10-43a0-befd-fc3da3034ffa",
   "metadata": {},
   "outputs": [],
   "source": [
    "df = pd.read_csv(\"dataset.csv\")  # Windows\n"
   ]
  },
  {
   "cell_type": "code",
   "execution_count": 8,
   "id": "7be84825-66a2-470b-9c10-4d40b116b35e",
   "metadata": {},
   "outputs": [
    {
     "name": "stdout",
     "output_type": "stream",
     "text": [
      "  name_of_city  state_code      state_name  dist_code  population_total  \\\n",
      "0      Abohar          3.0          PUNJAB        9.0          145238.0   \n",
      "1    Achalpur         27.0     MAHARASHTRA        7.0          112293.0   \n",
      "2    Adilabad         28.0  ANDHRA PRADESH        1.0          117388.0   \n",
      "3   Adityapur         20.0       JHARKHAND       24.0          173988.0   \n",
      "4       Adoni         28.0  ANDHRA PRADESH       21.0          166537.0   \n",
      "\n",
      "   population_male  population_female  0-6_population_total  \\\n",
      "0          76840.0            68398.0               15870.0   \n",
      "1          58256.0            54037.0               11810.0   \n",
      "2          59232.0            58156.0               13103.0   \n",
      "3          91495.0            82493.0               23042.0   \n",
      "4          82743.0            83794.0               18406.0   \n",
      "\n",
      "   0-6_population_male  0-6_population_female  ...      Female        Male  \\\n",
      "0               8587.0                 7283.0  ...  24760000.0  24830000.0   \n",
      "1               6186.0                 5624.0  ...  24863000.0  24960000.0   \n",
      "2               6731.0                 6372.0  ...  54642652.0  26690000.0   \n",
      "3              12063.0                10979.0  ...    669815.0    713912.0   \n",
      "4               9355.0                 9051.0  ...    662379.0    720232.0   \n",
      "\n",
      "      Persons          Region         Date   Frequency  \\\n",
      "0  49471555.0  Andhra Pradesh   31-05-2019     Monthly   \n",
      "1  49567295.0  Andhra Pradesh   30-06-2019     Monthly   \n",
      "2  53401000.0  Andhra Pradesh   31-07-2019     Monthly   \n",
      "3   1383727.0  Andhra Pradesh   31-08-2019     Monthly   \n",
      "4   1382611.0  Andhra Pradesh   30-09-2019     Monthly   \n",
      "\n",
      "    Estimated Unemployment Rate (%)   Estimated Employed  \\\n",
      "0                              3.65             11999139   \n",
      "1                              3.05             11755881   \n",
      "2                              3.75             12086707   \n",
      "3                              3.32             12285693   \n",
      "4                              5.17             12256762   \n",
      "\n",
      "   Estimated Labour Participation Rate (%)   Area  \n",
      "0                                    43.24  Rural  \n",
      "1                                    42.05  Rural  \n",
      "2                                    43.50  Rural  \n",
      "3                                    43.97  Rural  \n",
      "4                                    44.68  Rural  \n",
      "\n",
      "[5 rows x 34 columns]\n"
     ]
    }
   ],
   "source": [
    "import pandas as pd\n",
    "\n",
    "def load_data(file_path):\n",
    "    try:\n",
    "        return pd.read_csv(file_path)\n",
    "    except Exception as e:\n",
    "        print(\"Error loading dataset:\", e)\n",
    "        return None  # Agar error aaye to `None` return karein\n",
    "\n",
    "# File path set karein\n",
    "file_path = \"dataset.csv\"  # Ensure karein ki yeh file exist karti hai\n",
    "\n",
    "# Ab data load karein\n",
    "df = load_data(file_path)\n",
    "print(df.head())  # Check karein ki data load ho raha hai ya nahi\n"
   ]
  },
  {
   "cell_type": "code",
   "execution_count": 9,
   "id": "f0d50a16-9247-47ef-b782-d4ca1bf90590",
   "metadata": {},
   "outputs": [],
   "source": [
    "df = df.dropna()  # Ya missing values ko fill karne ke liye:\n",
    "df = df.fillna(df.mean(numeric_only=True))\n",
    "\n"
   ]
  },
  {
   "cell_type": "code",
   "execution_count": 10,
   "id": "4a02a90e-318f-4f87-a8e7-82a14b84a473",
   "metadata": {},
   "outputs": [
    {
     "name": "stdout",
     "output_type": "stream",
     "text": [
      "['PUNJAB' 'MAHARASHTRA' 'ANDHRA PRADESH' 'JHARKHAND' 'TRIPURA'\n",
      " 'UTTAR PRADESH' 'GUJARAT' 'MIZORAM' 'RAJASTHAN' 'TAMIL NADU' 'KERALA'\n",
      " 'HARYANA' 'CHHATTISGARH' 'JAMMU & KASHMIR' 'BIHAR' 'WEST BENGAL'\n",
      " 'KARNATAKA' 'ORISSA' 'MADHYA PRADESH' 'NCT OF DELHI' 'CHANDIGARH'\n",
      " 'UTTARAKHAND' 'ASSAM' 'NAGALAND']\n",
      "⚠️ Warning: 'year' column not found in dataset!\n"
     ]
    }
   ],
   "source": [
    "df[\"state_name\"] = df[\"state_name\"].str.strip().str.upper()\n",
    "print(df[\"state_name\"].unique())  # Unique state names check karein\n",
    "\n",
    "# Ensure karein ki year ka column exist karta hai\n",
    "if \"year\" not in df.columns:\n",
    "    print(\"⚠️ Warning: 'year' column not found in dataset!\")\n"
   ]
  },
  {
   "cell_type": "code",
   "execution_count": null,
   "id": "b1b0a74d-67cb-48a7-be6d-b90621814f08",
   "metadata": {},
   "outputs": [],
   "source": []
  },
  {
   "cell_type": "code",
   "execution_count": 11,
   "id": "fd2262ac-21b1-421f-9926-9bfdbd946afc",
   "metadata": {},
   "outputs": [
    {
     "ename": "KeyError",
     "evalue": "'Estimated Unemployment Rate (%)'",
     "output_type": "error",
     "traceback": [
      "\u001b[1;31m---------------------------------------------------------------------------\u001b[0m",
      "\u001b[1;31mKeyError\u001b[0m                                  Traceback (most recent call last)",
      "File \u001b[1;32m~\\AppData\\Local\\Programs\\Python\\Python313\\Lib\\site-packages\\pandas\\core\\indexes\\base.py:3805\u001b[0m, in \u001b[0;36mIndex.get_loc\u001b[1;34m(self, key)\u001b[0m\n\u001b[0;32m   3804\u001b[0m \u001b[38;5;28;01mtry\u001b[39;00m:\n\u001b[1;32m-> 3805\u001b[0m     \u001b[38;5;28;01mreturn\u001b[39;00m \u001b[38;5;28;43mself\u001b[39;49m\u001b[38;5;241;43m.\u001b[39;49m\u001b[43m_engine\u001b[49m\u001b[38;5;241;43m.\u001b[39;49m\u001b[43mget_loc\u001b[49m\u001b[43m(\u001b[49m\u001b[43mcasted_key\u001b[49m\u001b[43m)\u001b[49m\n\u001b[0;32m   3806\u001b[0m \u001b[38;5;28;01mexcept\u001b[39;00m \u001b[38;5;167;01mKeyError\u001b[39;00m \u001b[38;5;28;01mas\u001b[39;00m err:\n",
      "File \u001b[1;32mindex.pyx:167\u001b[0m, in \u001b[0;36mpandas._libs.index.IndexEngine.get_loc\u001b[1;34m()\u001b[0m\n",
      "File \u001b[1;32mindex.pyx:196\u001b[0m, in \u001b[0;36mpandas._libs.index.IndexEngine.get_loc\u001b[1;34m()\u001b[0m\n",
      "File \u001b[1;32mpandas\\\\_libs\\\\hashtable_class_helper.pxi:7081\u001b[0m, in \u001b[0;36mpandas._libs.hashtable.PyObjectHashTable.get_item\u001b[1;34m()\u001b[0m\n",
      "File \u001b[1;32mpandas\\\\_libs\\\\hashtable_class_helper.pxi:7089\u001b[0m, in \u001b[0;36mpandas._libs.hashtable.PyObjectHashTable.get_item\u001b[1;34m()\u001b[0m\n",
      "\u001b[1;31mKeyError\u001b[0m: 'Estimated Unemployment Rate (%)'",
      "\nThe above exception was the direct cause of the following exception:\n",
      "\u001b[1;31mKeyError\u001b[0m                                  Traceback (most recent call last)",
      "Cell \u001b[1;32mIn[11], line 2\u001b[0m\n\u001b[0;32m      1\u001b[0m X \u001b[38;5;241m=\u001b[39m df[[\u001b[38;5;124m\"\u001b[39m\u001b[38;5;124mpopulation_total\u001b[39m\u001b[38;5;124m\"\u001b[39m, \u001b[38;5;124m\"\u001b[39m\u001b[38;5;124mpopulation_male\u001b[39m\u001b[38;5;124m\"\u001b[39m, \u001b[38;5;124m\"\u001b[39m\u001b[38;5;124mpopulation_female\u001b[39m\u001b[38;5;124m\"\u001b[39m]]\u001b[38;5;241m.\u001b[39mdropna()\n\u001b[1;32m----> 2\u001b[0m y \u001b[38;5;241m=\u001b[39m \u001b[43mdf\u001b[49m\u001b[43m[\u001b[49m\u001b[38;5;124;43m\"\u001b[39;49m\u001b[38;5;124;43mEstimated Unemployment Rate (\u001b[39;49m\u001b[38;5;124;43m%\u001b[39;49m\u001b[38;5;124;43m)\u001b[39;49m\u001b[38;5;124;43m\"\u001b[39;49m\u001b[43m]\u001b[49m\u001b[38;5;241m.\u001b[39mdropna()\n\u001b[0;32m      4\u001b[0m \u001b[38;5;28;01mfrom\u001b[39;00m \u001b[38;5;21;01msklearn\u001b[39;00m\u001b[38;5;21;01m.\u001b[39;00m\u001b[38;5;21;01mlinear_model\u001b[39;00m \u001b[38;5;28;01mimport\u001b[39;00m LinearRegression\n\u001b[0;32m      5\u001b[0m model \u001b[38;5;241m=\u001b[39m LinearRegression()\n",
      "File \u001b[1;32m~\\AppData\\Local\\Programs\\Python\\Python313\\Lib\\site-packages\\pandas\\core\\frame.py:4102\u001b[0m, in \u001b[0;36mDataFrame.__getitem__\u001b[1;34m(self, key)\u001b[0m\n\u001b[0;32m   4100\u001b[0m \u001b[38;5;28;01mif\u001b[39;00m \u001b[38;5;28mself\u001b[39m\u001b[38;5;241m.\u001b[39mcolumns\u001b[38;5;241m.\u001b[39mnlevels \u001b[38;5;241m>\u001b[39m \u001b[38;5;241m1\u001b[39m:\n\u001b[0;32m   4101\u001b[0m     \u001b[38;5;28;01mreturn\u001b[39;00m \u001b[38;5;28mself\u001b[39m\u001b[38;5;241m.\u001b[39m_getitem_multilevel(key)\n\u001b[1;32m-> 4102\u001b[0m indexer \u001b[38;5;241m=\u001b[39m \u001b[38;5;28;43mself\u001b[39;49m\u001b[38;5;241;43m.\u001b[39;49m\u001b[43mcolumns\u001b[49m\u001b[38;5;241;43m.\u001b[39;49m\u001b[43mget_loc\u001b[49m\u001b[43m(\u001b[49m\u001b[43mkey\u001b[49m\u001b[43m)\u001b[49m\n\u001b[0;32m   4103\u001b[0m \u001b[38;5;28;01mif\u001b[39;00m is_integer(indexer):\n\u001b[0;32m   4104\u001b[0m     indexer \u001b[38;5;241m=\u001b[39m [indexer]\n",
      "File \u001b[1;32m~\\AppData\\Local\\Programs\\Python\\Python313\\Lib\\site-packages\\pandas\\core\\indexes\\base.py:3812\u001b[0m, in \u001b[0;36mIndex.get_loc\u001b[1;34m(self, key)\u001b[0m\n\u001b[0;32m   3807\u001b[0m     \u001b[38;5;28;01mif\u001b[39;00m \u001b[38;5;28misinstance\u001b[39m(casted_key, \u001b[38;5;28mslice\u001b[39m) \u001b[38;5;129;01mor\u001b[39;00m (\n\u001b[0;32m   3808\u001b[0m         \u001b[38;5;28misinstance\u001b[39m(casted_key, abc\u001b[38;5;241m.\u001b[39mIterable)\n\u001b[0;32m   3809\u001b[0m         \u001b[38;5;129;01mand\u001b[39;00m \u001b[38;5;28many\u001b[39m(\u001b[38;5;28misinstance\u001b[39m(x, \u001b[38;5;28mslice\u001b[39m) \u001b[38;5;28;01mfor\u001b[39;00m x \u001b[38;5;129;01min\u001b[39;00m casted_key)\n\u001b[0;32m   3810\u001b[0m     ):\n\u001b[0;32m   3811\u001b[0m         \u001b[38;5;28;01mraise\u001b[39;00m InvalidIndexError(key)\n\u001b[1;32m-> 3812\u001b[0m     \u001b[38;5;28;01mraise\u001b[39;00m \u001b[38;5;167;01mKeyError\u001b[39;00m(key) \u001b[38;5;28;01mfrom\u001b[39;00m \u001b[38;5;21;01merr\u001b[39;00m\n\u001b[0;32m   3813\u001b[0m \u001b[38;5;28;01mexcept\u001b[39;00m \u001b[38;5;167;01mTypeError\u001b[39;00m:\n\u001b[0;32m   3814\u001b[0m     \u001b[38;5;66;03m# If we have a listlike key, _check_indexing_error will raise\u001b[39;00m\n\u001b[0;32m   3815\u001b[0m     \u001b[38;5;66;03m#  InvalidIndexError. Otherwise we fall through and re-raise\u001b[39;00m\n\u001b[0;32m   3816\u001b[0m     \u001b[38;5;66;03m#  the TypeError.\u001b[39;00m\n\u001b[0;32m   3817\u001b[0m     \u001b[38;5;28mself\u001b[39m\u001b[38;5;241m.\u001b[39m_check_indexing_error(key)\n",
      "\u001b[1;31mKeyError\u001b[0m: 'Estimated Unemployment Rate (%)'"
     ]
    }
   ],
   "source": [
    "X = df[[\"population_total\", \"population_male\", \"population_female\"]].dropna()\n",
    "y = df[\"Estimated Unemployment Rate (%)\"].dropna()\n",
    "\n",
    "from sklearn.linear_model import LinearRegression\n",
    "model = LinearRegression()\n",
    "model.fit(X, y)  # Ensure karein ki X, y me NaN values na ho\n"
   ]
  },
  {
   "cell_type": "code",
   "execution_count": null,
   "id": "066db749-0294-4529-8a8b-b45d80ee923e",
   "metadata": {},
   "outputs": [],
   "source": []
  }
 ],
 "metadata": {
  "kernelspec": {
   "display_name": "Python 3 (ipykernel)",
   "language": "python",
   "name": "python3"
  },
  "language_info": {
   "codemirror_mode": {
    "name": "ipython",
    "version": 3
   },
   "file_extension": ".py",
   "mimetype": "text/x-python",
   "name": "python",
   "nbconvert_exporter": "python",
   "pygments_lexer": "ipython3",
   "version": "3.13.0"
  }
 },
 "nbformat": 4,
 "nbformat_minor": 5
}
