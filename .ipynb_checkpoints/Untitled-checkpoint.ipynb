{
 "cells": [
  {
   "cell_type": "code",
   "execution_count": null,
   "id": "5cd7735b",
   "metadata": {
    "vscode": {
     "languageId": "plaintext"
    }
   },
   "outputs": [],
   "source": [
    "CORS(app, resources={r\"/*\": {\"origins\": \"*\"}})"
   ]
  }
 ],
 "metadata": {
  "language_info": {
   "name": "python"
  }
 },
 "nbformat": 4,
 "nbformat_minor": 5
}
